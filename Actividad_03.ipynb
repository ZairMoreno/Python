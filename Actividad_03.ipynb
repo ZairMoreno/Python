{
  "nbformat": 4,
  "nbformat_minor": 0,
  "metadata": {
    "colab": {
      "provenance": [],
      "authorship_tag": "ABX9TyOcWhT5IobqVtrepAXFRPhp",
      "include_colab_link": true
    },
    "kernelspec": {
      "name": "python3",
      "display_name": "Python 3"
    },
    "language_info": {
      "name": "python"
    }
  },
  "cells": [
    {
      "cell_type": "markdown",
      "metadata": {
        "id": "view-in-github",
        "colab_type": "text"
      },
      "source": [
        "<a href=\"https://colab.research.google.com/github/ZairMoreno/Python/blob/main/Actividad_03.ipynb\" target=\"_parent\"><img src=\"https://colab.research.google.com/assets/colab-badge.svg\" alt=\"Open In Colab\"/></a>"
      ]
    },
    {
      "cell_type": "code",
      "execution_count": null,
      "metadata": {
        "colab": {
          "base_uri": "https://localhost:8080/"
        },
        "id": "sf26Vchnn_IZ",
        "outputId": "087c4a89-46ea-4e22-9c7a-1a8d7327c1dc"
      },
      "outputs": [
        {
          "output_type": "stream",
          "name": "stdout",
          "text": [
            "Dame la primera calificacion 67\n",
            "Dame la segunda calificacion 54\n",
            "Dame la tercera calificacion 89\n",
            "70.0 BIEN\n"
          ]
        }
      ],
      "source": [
        "#LEER TRES CALIFICAICONES Y MOSTRAR EL RESULTADO DEL PROMEDIO\n",
        "\n",
        "cal1 = int(input(\"Dame la primera calificacion \"))\n",
        "cal2 = int(input(\"Dame la segunda calificacion \"))\n",
        "cal3 = int(input(\"Dame la tercera calificacion \"))\n",
        "\n",
        "promedio = (cal1 + cal2 + cal3)/3\n",
        "\n",
        "if promedio < 30:\n",
        "    print(promedio, \"REPETIR MATERIA\")\n",
        "elif promedio < 60:\n",
        "    print(promedio, \"EXTRAORDINARIO\")\n",
        "elif promedio < 70:\n",
        "    print(promedio, \"REGULAR\")\n",
        "elif promedio < 80:\n",
        "    print(promedio, \"BIEN\")\n",
        "elif promedio < 90:\n",
        "    print(promedio, \"muy BIEN\")\n",
        "elif promedio <= 100:\n",
        "    print(promedio, \"EXCELENTE\")\n",
        "else:\n",
        "    print(\"error en PROMEDIO\")"
      ]
    },
    {
      "cell_type": "code",
      "source": [
        "#CALCULO DE SALARIO DE UN TRABAJADOR CON HORAS EXTRA\n",
        "print(\"Se paga a 100 pesos la hora laburada\")\n",
        "horas = int(input(\"Cantidad de horas que se trabajaron \"))\n",
        "\n",
        "if horas > 40:\n",
        "    print(\"Se te pagaran 40 horas como jornada normal\")\n",
        "    horas = horas - 40\n",
        "    print(\"Total jornada base: 4000 pesos\")\n",
        "    if horas > 0 and horas <= 9:\n",
        "        print(\"Se te pagaran al doble\", horas, \"horas\")\n",
        "        doble = (horas * 100) * 2\n",
        "        print(\"Total jornada horas al doble: \", doble, \"pesos\")\n",
        "    else:\n",
        "        doble = int(1800)\n",
        "        print(\"Se te pagaran doble 9 horas\")\n",
        "        horas = horas -9\n",
        "        print(\"Total jornada horas al doble: 1800\")\n",
        "        print(\"Se te pagaran al triple\", horas, \"horas\")\n",
        "        triple = (horas * 100) * 3\n",
        "        print(\"Total jornada horas al triple: \", triple, \"pesos\")\n",
        "\n",
        "total = doble + triple + int(4000)\n",
        "print(\"El total a pagar por sus horas trabajadas es: \", total)"
      ],
      "metadata": {
        "colab": {
          "base_uri": "https://localhost:8080/"
        },
        "id": "b4I5F5lhqzJc",
        "outputId": "cc06d5b9-5c27-47bc-99be-d40413ca9684"
      },
      "execution_count": null,
      "outputs": [
        {
          "output_type": "stream",
          "name": "stdout",
          "text": [
            "Se paga a 100 pesos la hora laburada\n",
            "Cantidad de horas que se trabajaron 50\n",
            "Se te pagaran 40 horas como jornada normal\n",
            "Total jornada base: 4000 pesos\n",
            "Se te pagaran doble 9 horas\n",
            "Total jornada horas al doble: 1800\n",
            "Se te pagaran al triple 1 horas\n",
            "Total jornada horas al triple:  300 pesos\n",
            "El total a pagar por sus horas trabajadas es:  6100\n"
          ]
        }
      ]
    },
    {
      "cell_type": "code",
      "source": [
        "#PROGRAMA QUE CALCULA TOTAL EN LLAMADAS\n",
        "print(\"Elige que tipo de llamada fue\")\n",
        "print(\"1.- Llamada local\")\n",
        "print(\"2.- Llamada nacional\")\n",
        "print(\"3.- Llamada internacional\")\n",
        "\n",
        "llamada = int(input())\n",
        "if llamada == 1 or llamada == 2 or llamada == 3:\n",
        "    minutos = int(input(\"Cuantos minutos duro la llamada?: \"))\n",
        "    if llamada == 1:\n",
        "        total = int(3)\n",
        "\n",
        "    elif llamada == 2:\n",
        "        if minutos <= 3:\n",
        "            total = int(7)\n",
        "\n",
        "        else:\n",
        "            minutos = minutos - 3\n",
        "            total = (minutos * 2) + 7\n",
        "\n",
        "    elif llamada == 3:\n",
        "        if minutos <= 2:\n",
        "            total = int(9)\n",
        "\n",
        "        else:\n",
        "            minutos = minutos - 2\n",
        "            total = (minutos * 4) + 9\n",
        "    print(\"Subtotal: \", total, \"pesos\")\n",
        "    iva = total * 0.16\n",
        "    print(\"Total de iva: \", iva, \"pesos\")\n",
        "    total = total + iva\n",
        "    print(\"Total de la llamada\", total, \"pesos\")\n",
        "\n",
        "else:\n",
        "    print(\"OPCION NO VALIDA EN EL MENU DE OPCIONES\")"
      ],
      "metadata": {
        "colab": {
          "base_uri": "https://localhost:8080/"
        },
        "id": "EPOa0pl37oMC",
        "outputId": "3cb743f5-2aeb-4aa9-cc43-6fc31789a0f3"
      },
      "execution_count": null,
      "outputs": [
        {
          "output_type": "stream",
          "name": "stdout",
          "text": [
            "Elige que tipo de llamada fue\n",
            "1.- Llamada local\n",
            "2.- Llamada nacional\n",
            "3.- Llamada internacional\n",
            "3\n",
            "Cuantos minutos duro la llamada?: 3\n",
            "Subtotal:  13 pesos\n",
            "Total de iva:  2.08 pesos\n",
            "Total de la llamada 15.08 pesos\n"
          ]
        }
      ]
    },
    {
      "cell_type": "code",
      "source": [
        "#TOTAL A PAGAR EN CONSUMMO DE AGUA\n",
        "\n",
        "rango = int(input(\"Cuantos m3 de agua se consumienton: \"))\n",
        "\n",
        "if rango > 0:\n",
        "    if rango <= 4:\n",
        "        subtotal = int(50)\n",
        "    elif rango <= 15:\n",
        "        subtotal = rango * 8\n",
        "    elif rango <= 50:\n",
        "        subtotal = rango * 10\n",
        "    elif rango > 50:\n",
        "        subtotal = rango * 11\n",
        "\n",
        "    print(\"SubTotal del consumo de agua \", subtotal, \"pesos\")\n",
        "    iva = subtotal * 0.16\n",
        "    total = subtotal + iva\n",
        "    print(\"El iva del consumo: \", iva)\n",
        "    print(\"El total del consumo: \", total)\n",
        "\n",
        "else:\n",
        "    print(\"Valor introducido no valido\")\n",
        "\n"
      ],
      "metadata": {
        "id": "Cx-AM-jZH7vy",
        "colab": {
          "base_uri": "https://localhost:8080/"
        },
        "outputId": "f1d06470-eb8c-4857-a2fd-5d0bdeef9848"
      },
      "execution_count": null,
      "outputs": [
        {
          "output_type": "stream",
          "name": "stdout",
          "text": [
            "Cuantos m3 de agua se consumienton: 89\n",
            "SubTotal del consumo de agua  979 pesos\n",
            "El iva del consumo:  156.64000000000001\n",
            "El total del consumo:  1135.64\n"
          ]
        }
      ]
    },
    {
      "cell_type": "code",
      "source": [
        " #CALCULAR EL PROMEDIO DE EXAMENES\n",
        "\n",
        "exa1 = int(input(\"Introduce la calificacion del primer examen: \"))\n",
        "exa2 = int(input(\"Introduce la calificacion del segundo examen: \"))\n",
        "exa3 = int(input(\"Introduce la calificacion del tercer examen: \"))\n",
        "exa4 = int(input(\"Introduce la calificacion del cuarto examen: \"))\n",
        "exa5 = int(input(\"Introduce la calificacion del quinto examen: \"))\n",
        "\n",
        "menor = min(exa1, exa2, exa3, exa4, exa5)\n",
        "print(\"Tu calificacion mas baja fue: \", menor,\"Por lo tanto esa calificacion queda descartada\")\n",
        "\n",
        "promedio = ((exa1 + exa2 + exa3 + exa4 + exa5) - menor) / 4\n",
        "print(\"Tu promedio final es: \", promedio)"
      ],
      "metadata": {
        "colab": {
          "base_uri": "https://localhost:8080/"
        },
        "id": "OMFEgCUr0MFi",
        "outputId": "5221a1b9-280f-4c2d-8e62-bb4c0e420851"
      },
      "execution_count": null,
      "outputs": [
        {
          "output_type": "stream",
          "name": "stdout",
          "text": [
            "Introduce la calificacion del primer examen: 85\n",
            "Introduce la calificacion del segundo examen: 65\n",
            "Introduce la calificacion del tercer examen: 42\n",
            "Introduce la calificacion del cuarto examen: 78\n",
            "Introduce la calificacion del quinto examen: 12\n",
            "Tu calificacion mas baja fue:  12 2Por lo tanto esa calificacion queda descartada\n",
            "Tu promedio final es:  67.5\n"
          ]
        }
      ]
    },
    {
      "cell_type": "code",
      "source": [
        "#PIRDRA, PAPEL O TIJERA\n",
        "print(\"1.- PIEDRA\")\n",
        "print(\"2.- PAPEL\")\n",
        "print(\"3.- TIJERA\")\n",
        "opcion1 = int(input(\"Elije la opcion que quiera tomar el jugador1: \"))\n",
        "opcion2 = int(input(\"Elije la opcion que quiera tomar el jugador2: \"))\n",
        "\n",
        "if opcion1 == 1 and opcion2 == 1:\n",
        "    print(\"Este es un EMPATE\")\n",
        "    if opcion1 == 1 and opcion2 == 2:\n",
        "        print(\"Victoria para JUGADOR 2\")\n",
        "        if opcion1 == 1 and opcion2 == 3:\n",
        "            print(\"Victoria para JUGADOR 1\")\n",
        "elif opcion1 == 2 and opcion2 == 1:\n",
        "    print(\"Victoria para JUGADOR 1\")\n",
        "    if opcion1 == 2 and opcion2 == 2:\n",
        "        print(\"Este es un EMPATE\")\n",
        "        if opcion1 == 2 and opcion2 == 3:\n",
        "            print(\"Victoria para JUGADOR 2\")\n",
        "elif opcion1 == 3 and opcion2 == 1:\n",
        "    print(\"Victoria para JUGADOR 2\")\n",
        "    if opcion1 == 3 and opcion2 == 2:\n",
        "        print(\"Victoria para JUGADOR 1\")\n",
        "        if opcion1 == 3 and opcion2 == 3:\n",
        "            print(\"Este es un EMPATE\")\n",
        "\n",
        "else:\n",
        "    print(\"Una de las opciones introducidas NO ES VALIDA\")"
      ],
      "metadata": {
        "colab": {
          "base_uri": "https://localhost:8080/"
        },
        "id": "T5v8_18U5r2W",
        "outputId": "55141a9d-c0aa-43be-b2cf-567053b834bb"
      },
      "execution_count": null,
      "outputs": [
        {
          "output_type": "stream",
          "name": "stdout",
          "text": [
            "1.- PIEDRA\n",
            "2.- PAPEL\n",
            "3.- TIJERA\n",
            "Elije la opcion que quiera tomar el jugador1: 5\n",
            "Elije la opcion que quiera tomar el jugador2: 5\n",
            "ESTA OPCION NO ES VALIDA\n"
          ]
        }
      ]
    },
    {
      "cell_type": "code",
      "source": [
        "#TIENDA DE ELECTRONICA\n",
        "print(\"ARTICULOS EN PROMOCION\")\n",
        "print(\"1.- Computadora  $5000\")\n",
        "print(\"2.- Television   $7000\")\n",
        "print(\"3.- Consola      $10000\")\n",
        "compra = int(input(\"Que producto compraste? \"))\n",
        "\n",
        "if compra == 1:\n",
        "    print(\"En la compra de la computadora puedes adquirir una impresora de $4000 con el 10% de descuento. Deseas adquirirla?\")\n",
        "    print(\"1.- SI\")\n",
        "    print(\"2.- NO\")\n",
        "    opcion = int(input())\n",
        "    precioA1 = 5000 * 0.05\n",
        "    precioA2 = 4000 * 0.10\n",
        "    articulo1 = 5000 - precioA1\n",
        "    if opcion == 1:\n",
        "        articulo2 = 4000 - precioA2\n",
        "        total = articulo1 + articulo2\n",
        "        print(\"Computadora $\",articulo1)\n",
        "        print(\"Impresora $\",articulo2)\n",
        "        print(\"El total de su compra es $\",total)\n",
        "    else:\n",
        "        print(\"El total de su compra es $\",articulo1)\n",
        "elif compra == 2:\n",
        "    print(\"En la compra de la television tienes un descuento del 15% en una barra de sonido de $6000. Deseas adquirirla?\")\n",
        "    print(\"1.- SI\")\n",
        "    print(\"1.- NO\")\n",
        "    opcion = int(input())\n",
        "    precioA1 = 7000 * 0.07\n",
        "    precioA2 = 6000 * 0.15\n",
        "    articulo1 = 7000 - precioA1\n",
        "    if opcion == 1:\n",
        "        articulo2 = 6000 - precioA2\n",
        "        total = articulo1 + articulo2\n",
        "        print(\"Television $\",articulo1)\n",
        "        print(\"Barra de sonido $\",articulo2)\n",
        "        print(\"El total de su compra $\",total)\n",
        "    else:\n",
        "        print(\"El total de su compra es $\",articulo1)\n",
        "elif compra == 3:\n",
        "    print(\"En la compra de la consola tiene un descuento del 20% en un juego de $1500. Desea adquirirlo?\")\n",
        "    print(\"1.- SI\")\n",
        "    print(\"2.- NO\")\n",
        "    opcion = int(input())\n",
        "    precioA1 = 10000 * 0.10\n",
        "    precioA2 = 1500 * 0.20\n",
        "    articulo1 = 10000 - precioA1\n",
        "    if opcion == 1:\n",
        "        articulo2 = 1500 - precioA2\n",
        "        total = articulo1 + articulo2\n",
        "        print(\"Television $\",articulo1)\n",
        "        print(\"Barra de sonido $\",articulo2)\n",
        "        print(\"El total de su compra $\",total)\n",
        "    else:\n",
        "        print(\"El total de su compra es $\",articulo1)\n",
        "else:\n",
        "    print(\"OPCION NO VALIDA EN EL PROGRAMA\")"
      ],
      "metadata": {
        "colab": {
          "base_uri": "https://localhost:8080/"
        },
        "id": "Wxsae4FAtjGX",
        "outputId": "6c901e68-8138-480d-9901-9b27263ff8eb"
      },
      "execution_count": 14,
      "outputs": [
        {
          "output_type": "stream",
          "name": "stdout",
          "text": [
            "ARTICULOS EN PROMOCION\n",
            "1.- Computadora  $5000\n",
            "2.- Television   $7000\n",
            "3.- Consola      $10000\n",
            "Que producto compraste? 4\n",
            "OPCION NO VALIDA EN EL PROGRAMA\n"
          ]
        }
      ]
    },
    {
      "cell_type": "code",
      "source": [
        "#TIENDA DE ROPA\n",
        "print(\"Precio original de las camisas $300\")\n",
        "print(\"1.- PRIMAVERA\")\n",
        "print(\"2.- VERANO\")\n",
        "print(\"3.- OTOÑO\")\n",
        "print(\"4.- INVIERNO\")\n",
        "print(\"En que temporada del año se encuentra?\")\n",
        "temporada = int(input())\n",
        "\n",
        "if temporada == 1 or temporada == 3:\n",
        "    prendas = int(input(\"Cuantas prendas adquirio \"))\n",
        "    prendasD = int(input(\"Cuntas de estas prendas tienen etiqueta AMARILLA \"))\n",
        "    if prendasD <= prendas:\n",
        "        prendasSinD = prendas - prendasD\n",
        "        prendasSinDT = prendasSinD * 300\n",
        "        prendasConD = prendasD * 300\n",
        "        descuento = prendasConD * 0.10\n",
        "        total = (prendasSinDT + prendasConD) - descuento\n",
        "        print(\"El total de su compra es:\", total)\n",
        "    else:\n",
        "        print(\"La cantidad de prendas con etiqueta amarilla que introdujo es mayor a la cantidad de prendas adquiridas totales y eso no tiene sentido mi estimado\")\n",
        "\n",
        "elif temporada == 2:\n",
        "    prendas = int(input(\"Cuantas prendas adquirio \"))\n",
        "    if prendas > 0:\n",
        "        prendasConD = prendas * 300\n",
        "        descuento = prendasConD * 0.20\n",
        "        total = prendasConD - descuento\n",
        "        print(\"El total de su compra es:\", total)\n",
        "    else:\n",
        "        print(\"La cantidad de prendas introducida no tiene centido caballero\")\n",
        "\n",
        "elif temporada == 4:\n",
        "    prendas = int(input(\"Cuantas prendas adquirio \"))\n",
        "    prendasVerde = int(input(\"Cuntas de estas prendas tienen etiqueta VERDE \"))\n",
        "    prendasRoja = int(input(\"Cuntas de estas prendas tienen etiqueta ROJA \"))\n",
        "    totalEtiqueta = prendasVerde + prendasRoja\n",
        "    if totalEtiqueta <= prendas:\n",
        "        prendasVerdeT = prendasVerde * 300\n",
        "        descuentoVerde = prendasVerdeT * 0.15\n",
        "        totalVerde = prendasVerdeT - descuentoVerde\n",
        "        prendasRojaT = prendasRoja * 300\n",
        "        descuentoRoja = prendasRojaT * 0.30\n",
        "        totalRoja = prendasRojaT - descuentoRoja\n",
        "        prendasSinD = ((prendas-prendasVerde)-prendasRoja) * 300\n",
        "        total = totalVerde + totalRoja + prendasSinD\n",
        "        print(\"El total de su compra es:\", total)\n",
        "    else:\n",
        "        print(\"Las cantidades de total de prendas adquiridas y prendas con etiqueta no tiene sentido compañero\")\n",
        "else:\n",
        "    print(\"OPCION NO VALIDA EN EL MENU DEL PROGRAMA\")"
      ],
      "metadata": {
        "colab": {
          "base_uri": "https://localhost:8080/"
        },
        "id": "IREQ5BB_4A2z",
        "outputId": "0f9dba55-e07b-48d9-cbb3-7361813c3499"
      },
      "execution_count": 24,
      "outputs": [
        {
          "output_type": "stream",
          "name": "stdout",
          "text": [
            "Precio original de las camisas $300\n",
            "1.- PRIMAVERA\n",
            "2.- VERANO\n",
            "3.- OTOÑO\n",
            "4.- INVIERNO\n",
            "En que temporada del año se encuentra?\n",
            "5\n",
            "OPCION NO VALIDA EN EL MENU DEL PROGRAMA\n"
          ]
        }
      ]
    },
    {
      "cell_type": "code",
      "source": [
        "#RESTAURANTE CON OFERTAS\n",
        "\n",
        "print(\"1.- LUNES\")\n",
        "print(\"2.- MARTES\")\n",
        "print(\"3.- MIERCOLES\")\n",
        "print(\"4.- JUEVES\")\n",
        "print(\"5.- VIERNES\")\n",
        "print(\"6.- SABADO\")\n",
        "print(\"7.- DOMINGO\")\n",
        "dia = int(input(\"En que dia de la semana se encuentra: \"))\n",
        "\n",
        "print(\"1.- Del Dia      $170\")\n",
        "print(\"2.- Vegetariano  $160\")\n",
        "print(\"3.- Del Chef     $210\")\n",
        "print(\"4.- Infantil     $120\")\n",
        "menu = int(input(\"Que menu fue el que pidio \"))\n",
        "\n",
        "if menu == 1:\n",
        "    total = int(170)\n",
        "elif menu == 2:\n",
        "    total = int(160)\n",
        "elif menu == 3:\n",
        "    total = int(210)\n",
        "else:\n",
        "    total = int(120)\n",
        "\n",
        "if dia == 1:\n",
        "    if menu == 1:\n",
        "        descuento = 170 * 0.10\n",
        "        total = 170 - descuento\n",
        "        print(\"El total de su platillo es: \",total)\n",
        "    else:\n",
        "        print(\"Los dias lunes no tiene descuento el platillo que eligio. El total de su compra es: \", total)\n",
        "\n",
        "elif dia == 2:\n",
        "    if menu == 4:\n",
        "        descuento = 120 * 0.20\n",
        "        total = 120 -descuento\n",
        "        print(\"El total de su platillo es: \", total)\n",
        "    else:\n",
        "        print(\"Los dias martes no tiene descuento el platillo que eligio. El total de su compra es: \", total)\n",
        "\n",
        "elif dia == 3:\n",
        "    if menu == 2:\n",
        "        descuento = 160 * 0.15\n",
        "        total = 160 - descuento\n",
        "        print(\"El total de su platillo es: \", total)\n",
        "    else:\n",
        "        print(\"Los dias miercoles no tiene descuento el platillo que eligio. El total de su compra es: \", total)\n",
        "\n",
        "elif dia == 4:\n",
        "    if menu == 3:\n",
        "        descuento = 210 * 0.05\n",
        "        total = 210 - descuento\n",
        "        print(\"El total de su platillo es: \", total)\n",
        "    else:\n",
        "        print(\"Los dias jueves no tiene descuento el platillo que eligio. El total de su compra es: \", total)\n",
        "\n",
        "elif dia == 5:\n",
        "    if menu == 1:\n",
        "        descuento = 170 * 0.05\n",
        "        total = 170 - descuento\n",
        "        print(\"El total de su platillo es: \", total)\n",
        "    else:\n",
        "        print(\"Los dias jueves no tiene descuento el platillo que eligio. El total de su compra es: \", total)\n",
        "elif dia == 6 or dia == 7:\n",
        "    print(\"Este dia no existe ninguna promocion, por lo tanto el total por su platillo es: \", total)\n",
        "\n",
        "else:\n",
        "    print(\"LA OPCION DE DIA NO ES VALIDA\")"
      ],
      "metadata": {
        "colab": {
          "base_uri": "https://localhost:8080/"
        },
        "id": "TlJBrW94FMoc",
        "outputId": "a16ad5bb-4f44-4289-984e-6f02718d8ea1"
      },
      "execution_count": 35,
      "outputs": [
        {
          "output_type": "stream",
          "name": "stdout",
          "text": [
            "1.- LUNES\n",
            "2.- MARTES\n",
            "3.- MIERCOLES\n",
            "4.- JUEVES\n",
            "5.- VIERNES\n",
            "6.- SABADO\n",
            "7.- DOMINGO\n",
            "En que dia de la semana se encuentra: 1\n",
            "1.- Del Dia      $170\n",
            "2.- Vegetariano  $160\n",
            "3.- Del Chef     $210\n",
            "4.- Infantil     $120\n",
            "Que menu fue el que pidio 3\n",
            "Los dias lunes no tiene descuento el platillo que eligio. El total de su compra es:  210\n"
          ]
        }
      ]
    }
  ]
}