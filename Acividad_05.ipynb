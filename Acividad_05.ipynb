{
  "nbformat": 4,
  "nbformat_minor": 0,
  "metadata": {
    "colab": {
      "provenance": [],
      "authorship_tag": "ABX9TyNUsGWSDwGwP9yB2mP5RBm3",
      "include_colab_link": true
    },
    "kernelspec": {
      "name": "python3",
      "display_name": "Python 3"
    },
    "language_info": {
      "name": "python"
    }
  },
  "cells": [
    {
      "cell_type": "markdown",
      "metadata": {
        "id": "view-in-github",
        "colab_type": "text"
      },
      "source": [
        "<a href=\"https://colab.research.google.com/github/ZairMoreno/Python/blob/main/Acividad_05.ipynb\" target=\"_parent\"><img src=\"https://colab.research.google.com/assets/colab-badge.svg\" alt=\"Open In Colab\"/></a>"
      ]
    },
    {
      "cell_type": "code",
      "execution_count": null,
      "metadata": {
        "id": "NrQEvCgUlkQ5"
      },
      "outputs": [],
      "source": [
        "#ACTIVIDAD 5\n",
        "#PROGRAMA 1 QUE GENERE NUMEROS ALEATORIO ENTRE 0 Y 200\n",
        "\n",
        "import random\n",
        "\n",
        "numeros = []\n",
        "numeros_pares = []\n",
        "numeros_impares = []\n",
        "suma_pares = 0\n",
        "suma_impares = 0\n",
        "\n",
        "for _ in range(40):\n",
        "    numero = random.randint(0, 200)\n",
        "    numeros.append(numero)\n",
        "    if numero % 2 == 0:\n",
        "        numeros_pares.append(numero)\n",
        "        suma_pares += numero\n",
        "    else:\n",
        "        numeros_impares.append(numero)\n",
        "        suma_impares += numero\n",
        "\n",
        "print(\"Numeros generados: \")\n",
        "for numero in numeros:\n",
        "    tipo = \"par\" if numero % 2 == 0 else \"impar\"\n",
        "    print(f\"{numero}: {tipo}\")\n",
        "\n",
        "print(f\"\\nCantidad de numeros pares: {len(numeros_pares)}\")\n",
        "print(f\"\\nCantidad de numeros impares: {len(numeros_impares)}\")\n",
        "\n",
        "print(f\"\\nSuma de los numeros impares: {suma_pares}\")\n",
        "print(f\"\\nSuma de los numeros impares: {suma_impares}\")"
      ]
    },
    {
      "cell_type": "code",
      "source": [
        "#PROGRAMA 2 MOSTRAR TABLAS DE MULTIPLICAR DE UN NUMERO DADO\n",
        "\n",
        "numero = int(input(\"Ingrese el valor (Entre el 1 y el 20) de la tabla de multiplicar: \"))\n",
        "\n",
        "try:\n",
        "    if numero < 1 or numero > 20:\n",
        "        raise ValueError(\"El numero de seleccion tiene que ser entre el 1 y el 20\")\n",
        "except ValueError as e:\n",
        "    print(\"Error: \", e)\n",
        "except TypeError:\n",
        "    print(\"El valor ingresado tinene que ser un numero\")\n",
        "\n",
        "else:\n",
        "    numero2 = numero * 1\n",
        "    print(numero, \"X 1 =\", numero2)\n",
        "    numero2 = numero * 2\n",
        "    print(numero, \"X 2 =\", numero2)\n",
        "    numero2 = numero * 3\n",
        "    print(numero, \"X 3 =\", numero2)\n",
        "    numero2 = numero * 4\n",
        "    print(numero, \"X 4 =\", numero2)\n",
        "    numero2 = numero * 5\n",
        "    print(numero, \"X 5 =\", numero2)\n",
        "    numero2 = numero * 6\n",
        "    print(numero, \"X 6 =\", numero2)\n",
        "    numero2 = numero * 7\n",
        "    print(numero, \"X 7 =\", numero2)\n",
        "    numero2 = numero * 8\n",
        "    print(numero, \"X 8 =\", numero2)\n",
        "    numero2 = numero * 9\n",
        "    print(numero, \"X 9 =\", numero2)\n",
        "    numero2 = numero * 10\n",
        "    print(numero, \"X 10 =\", numero2)"
      ],
      "metadata": {
        "colab": {
          "base_uri": "https://localhost:8080/"
        },
        "id": "6EBbv13szpGQ",
        "outputId": "86dee50a-36d1-4124-8174-bfb2fc5bbaf6"
      },
      "execution_count": null,
      "outputs": [
        {
          "output_type": "stream",
          "name": "stdout",
          "text": [
            "Ingrese el valor (Entre el 1 y el 20) de la tabla de multiplicar: 0\n",
            "Error:  El numero de seleccion tiene que ser entre el 1 y el 20\n"
          ]
        }
      ]
    },
    {
      "cell_type": "code",
      "source": [
        "#PROGRAMA 3 LEER UNA CALIFICACION ENTRE EL 0 Y 100\n",
        "\n",
        "try:\n",
        "    cal = int(input(\"Ingrese la calificacion entre el 0 y el 100 \"))\n",
        "    if cal < 0 or cal > 100:\n",
        "        raise ValueError(\"La calificacion tiene que ser en valores entre el 0 y el 100\")\n",
        "except ValueError as e:\n",
        "    print(\"Error: \", e)\n",
        "\n",
        "except TypeError:\n",
        "    print(\"El valor ingresado tiene que ser un numero entero\")\n",
        "else:\n",
        "    if cal > 59:\n",
        "        print(\"ESTA USTED APROBADO\")\n",
        "    if cal <= 59:\n",
        "        print(\"ESTA USTED REPROBADO\")"
      ],
      "metadata": {
        "colab": {
          "base_uri": "https://localhost:8080/"
        },
        "id": "jklgpiS-w_tt",
        "outputId": "50833fa6-bd14-40c9-9158-7df57e4266b7"
      },
      "execution_count": null,
      "outputs": [
        {
          "output_type": "stream",
          "name": "stdout",
          "text": [
            "Ingrese la calificacion entre el 0 y el 100 e\n",
            "Error:  invalid literal for int() with base 10: 'e'\n"
          ]
        }
      ]
    },
    {
      "cell_type": "code",
      "source": [
        "#PROGRAMA 4 LEER UNA CANTIDAD DE NUMEROS, SUMARLOS Y MOSTRAR LA MEDIA\n",
        "\n",
        "suma = 0\n",
        "cantidad_numeros = 0\n",
        "\n",
        "while True:\n",
        "    try:\n",
        "        numero = int(input(\"Introduce un número entero o preciona 0 para termianr): \"))\n",
        "        if numero == 0:\n",
        "            break\n",
        "        elif numero < 0:\n",
        "            print(\"Introduce un número entero mayor que cero.\")\n",
        "            continue\n",
        "\n",
        "        suma += numero\n",
        "        cantidad_numeros += 1\n",
        "\n",
        "    except ValueError:\n",
        "        print(\"Introduce un número entero válido.\")\n",
        "\n",
        "if cantidad_numeros > 0:\n",
        "    media = suma / cantidad_numeros\n",
        "    print(f\"Suma de números: {suma}\")\n",
        "    print(f\"Media de números: {media}\")\n",
        "else:\n",
        "    print(\"No se introdujeron números válidos.\")\n"
      ],
      "metadata": {
        "id": "FdTsVNK23Gl5",
        "colab": {
          "base_uri": "https://localhost:8080/"
        },
        "outputId": "40b875f9-13c3-4a06-aaed-dc212725d9f1"
      },
      "execution_count": 8,
      "outputs": [
        {
          "output_type": "stream",
          "name": "stdout",
          "text": [
            "Introduce un número entero (0 para terminar): 32\n",
            "Introduce un número entero (0 para terminar): 12\n",
            "Introduce un número entero (0 para terminar): 0\n",
            "Suma de números: 44\n",
            "Media de números: 22.0\n"
          ]
        }
      ]
    },
    {
      "cell_type": "code",
      "source": [
        "#PROGRAMA 5 PROMEDIO DE UNA MATERIA\n",
        "\n",
        "repro = 0\n",
        "for num in range(3):\n",
        "    try:\n",
        "        promedio = float(input(\"Ingrese el promedio: \"))\n",
        "        if promedio > 0 and promedio < 60:\n",
        "            print(\"Esta usted reprobado\")\n",
        "            num = num + 1\n",
        "            repro = repro + 1\n",
        "        elif promedio >= 60 and promedio <= 100:\n",
        "            print(\"Esta usted aprobado en la materia\")\n",
        "            break\n",
        "    except ValueError:\n",
        "        print(\"Pon un numero valido\")\n",
        "if repro == 3:\n",
        "    print(\"Baja academica por reprobar 3 veces la materia\")"
      ],
      "metadata": {
        "colab": {
          "base_uri": "https://localhost:8080/"
        },
        "id": "hXScfe0bDD-p",
        "outputId": "1f59ce59-f87f-4fec-d256-3966a6510a7a"
      },
      "execution_count": 19,
      "outputs": [
        {
          "output_type": "stream",
          "name": "stdout",
          "text": [
            "Ingrese el promedio: 12\n",
            "Esta usted reprobado\n",
            "Ingrese el promedio: 78\n",
            "Esta usted aprobado en la materia\n"
          ]
        }
      ]
    },
    {
      "cell_type": "code",
      "source": [
        "#PARTE 2\n",
        "\n",
        "#PROGRAMA 1 FUNCION QUE LEA n CANTIDAD DE NUMEROS. DESPLEGAR LA SUMA DE LOS NUMEROS, MAYOR, MENOR Y MEDIA\n",
        "\n",
        "def leer_numeros():\n",
        "    numeros = []\n",
        "    while True:\n",
        "        entrada = input(\"Introduce un número (o 'q' para terminar): \")\n",
        "        if entrada.lower() == 'q':\n",
        "            break\n",
        "        try:\n",
        "            numero = float(entrada)\n",
        "            numeros.append(numero)\n",
        "        except ValueError:\n",
        "            print(\"Por favor, introduce un número válido.\")\n",
        "\n",
        "    return numeros\n",
        "\n",
        "def suma_media(numeros):\n",
        "    if not numeros:\n",
        "        return None, None, None, None\n",
        "\n",
        "    suma = sum(numeros)\n",
        "    media = suma / len(numeros)\n",
        "    maximo = max(numeros)\n",
        "    minimo = min(numeros)\n",
        "\n",
        "    return suma, media, maximo, minimo\n",
        "\n",
        "numeros = leer_numeros()\n",
        "suma, media, maximo, minimo = suma_media(numeros)\n",
        "\n",
        "if suma is not None:\n",
        "    print(f\"Suma de los números: {suma}\")\n",
        "    print(f\"Media de los números: {media}\")\n",
        "    print(f\"Valor máximo: {maximo}\")\n",
        "    print(f\"Valor mínimo: {minimo}\")\n",
        "else:\n",
        "    print(\"No se introdujeron números.\")\n"
      ],
      "metadata": {
        "colab": {
          "base_uri": "https://localhost:8080/"
        },
        "id": "gnnB8HeiWO2M",
        "outputId": "8e5fb1bb-9e98-428b-e801-6681254e5fc0"
      },
      "execution_count": 22,
      "outputs": [
        {
          "output_type": "stream",
          "name": "stdout",
          "text": [
            "Introduce un número (o 'q' para terminar): q\n",
            "No se introdujeron números.\n"
          ]
        }
      ]
    },
    {
      "cell_type": "code",
      "source": [
        "#PROGRAMA 2 15 NUMEROS RANDOM Y DESPLEGAR MEDIA\n",
        "\n",
        "import random\n",
        "\n",
        "def generar_numeros(cantidad, tipo):\n",
        "    numeros = []\n",
        "    if tipo == 'par':\n",
        "        while len(numeros) < cantidad:\n",
        "            numero = random.randint(10, 60)\n",
        "            if numero % 2 == 0:\n",
        "                numeros.append(numero)\n",
        "    elif tipo == 'impar':\n",
        "        while len(numeros) < cantidad:\n",
        "            numero = random.randint(11, 59)\n",
        "            if numero % 2 != 0:\n",
        "                numeros.append(numero)\n",
        "    return numeros\n",
        "\n",
        "def calcular_media(numeros):\n",
        "    if len(numeros) == 0:\n",
        "        return 0\n",
        "    return sum(numeros) / len(numeros)\n",
        "\n",
        "numeros_pares = generar_numeros(15, 'par')\n",
        "numeros_impares = generar_numeros(15, 'impar')\n",
        "\n",
        "media_pares = calcular_media(numeros_pares)\n",
        "media_impares = calcular_media(numeros_impares)\n",
        "\n",
        "print(f\"Números pares generados: {numeros_pares}\")\n",
        "print(f\"Media de los números pares: {media_pares}\")\n",
        "\n",
        "print(f\"\\nNúmeros impares generados: {numeros_impares}\")\n",
        "print(f\"Media de los números impares: {media_impares}\")"
      ],
      "metadata": {
        "colab": {
          "base_uri": "https://localhost:8080/"
        },
        "id": "30MI2I4Aio6W",
        "outputId": "d7b09d14-bae1-4bfb-8c49-c6fac4d065f6"
      },
      "execution_count": 27,
      "outputs": [
        {
          "output_type": "stream",
          "name": "stdout",
          "text": [
            "Números pares generados: [20, 54, 44, 20, 10, 42, 40, 14, 22, 24, 24, 12, 32, 14, 58]\n",
            "Media de los números pares: 28.666666666666668\n",
            "\n",
            "Números impares generados: [33, 17, 45, 19, 41, 21, 39, 57, 17, 39, 21, 21, 59, 21, 51]\n",
            "Media de los números impares: 33.4\n"
          ]
        }
      ]
    },
    {
      "cell_type": "code",
      "source": [
        "#PROGRAMA 4 AREA DEL TRIANGULO\n",
        "\n",
        "def calcular_area_triangulo(base, altura):\n",
        "    area = (base * altura) / 2\n",
        "    return area\n",
        "\n",
        "base = float(input(\"Introduce la base del triángulo: \"))\n",
        "altura = float(input(\"Introduce la altura del triángulo: \"))\n",
        "\n",
        "area = calcular_area_triangulo(base, altura)\n",
        "print(f\"El área del triángulo es: {area}\")"
      ],
      "metadata": {
        "colab": {
          "base_uri": "https://localhost:8080/"
        },
        "id": "dXKFkjVojLHq",
        "outputId": "452b8b15-2bab-4cc4-88fc-d56d7213f414"
      },
      "execution_count": 28,
      "outputs": [
        {
          "output_type": "stream",
          "name": "stdout",
          "text": [
            "Introduce la base del triángulo: 56\n",
            "Introduce la altura del triángulo: 43\n",
            "El área del triángulo es: 1204.0\n"
          ]
        }
      ]
    },
    {
      "cell_type": "code",
      "source": [
        "#PROGRAMA 5 VALIDAR UN NUMERO\n",
        "\n",
        "def validar_numero(numero, minimo, maximo):\n",
        "    if minimo <= numero <= maximo:\n",
        "        return True\n",
        "    else:\n",
        "        return False\n",
        "\n",
        "numero = float(input(\"Introduce un número: \"))\n",
        "minimo = float(input(\"Introduce el valor mínimo del rango: \"))\n",
        "maximo = float(input(\"Introduce el valor máximo del rango: \"))\n",
        "\n",
        "if validar_numero(numero, minimo, maximo):\n",
        "    print(f\"El número {numero} está dentro del rango [{minimo}, {maximo}].\")\n",
        "else:\n",
        "    print(f\"El número {numero} está fuera del rango [{minimo}, {maximo}].\")\n"
      ],
      "metadata": {
        "colab": {
          "base_uri": "https://localhost:8080/"
        },
        "id": "NscenssnjsKO",
        "outputId": "abffd1a6-c385-459b-cc7e-f22e957f6a60"
      },
      "execution_count": 29,
      "outputs": [
        {
          "output_type": "stream",
          "name": "stdout",
          "text": [
            "Introduce un número: 45\n",
            "Introduce el valor mínimo del rango: 12\n",
            "Introduce el valor máximo del rango: 89\n",
            "El número 45.0 está dentro del rango [12.0, 89.0].\n"
          ]
        }
      ]
    }
  ]
}