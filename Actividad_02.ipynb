{
  "nbformat": 4,
  "nbformat_minor": 0,
  "metadata": {
    "colab": {
      "provenance": [],
      "authorship_tag": "ABX9TyP8VfYQx8rsubUPogIlXVKv",
      "include_colab_link": true
    },
    "kernelspec": {
      "name": "python3",
      "display_name": "Python 3"
    },
    "language_info": {
      "name": "python"
    }
  },
  "cells": [
    {
      "cell_type": "markdown",
      "metadata": {
        "id": "view-in-github",
        "colab_type": "text"
      },
      "source": [
        "<a href=\"https://colab.research.google.com/github/ZairMoreno/Python/blob/main/Actividad_02.ipynb\" target=\"_parent\"><img src=\"https://colab.research.google.com/assets/colab-badge.svg\" alt=\"Open In Colab\"/></a>"
      ]
    },
    {
      "cell_type": "code",
      "execution_count": null,
      "metadata": {
        "id": "a-KI1UoH9gFV",
        "colab": {
          "base_uri": "https://localhost:8080/"
        },
        "outputId": "f51d2fa6-8630-4f62-e8fc-a64657f3be68"
      },
      "outputs": [
        {
          "output_type": "stream",
          "name": "stdout",
          "text": [
            "Escriba el primer numero 56\n",
            "Escriba el segundo numero 23\n",
            "El numero mas alto es el:  56\n"
          ]
        }
      ],
      "source": [
        "#Numero mas alto\n",
        "numero1 = int(input(\"Escriba el primer numero \"))\n",
        "numero2 = int(input(\"Escriba el segundo numero \"))\n",
        "if numero1 < numero2: print(\"El numero mas alto es el: \",numero2)\n",
        "elif numero1 > numero2: print(\"El numero mas alto es el: \", numero1)\n",
        "else: print(\"Los dos valores proporcionados son iguales\")\n"
      ]
    },
    {
      "cell_type": "code",
      "source": [
        "#Calificaciones aprobadas o reprobadas\n",
        "calificacion1 = float(input(\"Escribe la primera calificacion \"))\n",
        "calificacion2 = float(input(\"Escribe la segunda calificacion \"))\n",
        "calificacion3 = float(input(\"Escribe la tercera calificacion \"))\n",
        "calificacion4 = float(input(\"Escribe la cuarta calificacion \"))\n",
        "promedio = (calificacion1 + calificacion2 + calificacion3 + calificacion4)/4\n",
        "if promedio >= 60: print(\"APROBADO\")\n",
        "else: print(\"REPROBADO\")"
      ],
      "metadata": {
        "colab": {
          "base_uri": "https://localhost:8080/"
        },
        "id": "GzQr8MM7cvN1",
        "outputId": "40d32b1a-7ffc-4438-b312-1f3d0ca214ab"
      },
      "execution_count": null,
      "outputs": [
        {
          "output_type": "stream",
          "name": "stdout",
          "text": [
            "Escribe la primera calificacion 67\n",
            "Escribe la segunda calificacion 32\n",
            "Escribe la tercera calificacion 89\n",
            "Escribe la cuarta calificacion 54\n",
            "APROBADO\n"
          ]
        }
      ]
    },
    {
      "cell_type": "code",
      "source": [
        "#Hombre o Mujer?\n",
        "print(\"En caso de ser hombre selecciona el numero 1, en caso de ser mujer selecciona el numero 2\")\n",
        "opcion = int(input(\"OPCION \"))\n",
        "if opcion == 1: print(\"HOMBRE\")\n",
        "else: print(\"MUJER\")"
      ],
      "metadata": {
        "colab": {
          "base_uri": "https://localhost:8080/"
        },
        "id": "Q7ZO_dMIfOwE",
        "outputId": "24a9405e-fece-491d-8739-aa2402ebd88f"
      },
      "execution_count": null,
      "outputs": [
        {
          "output_type": "stream",
          "name": "stdout",
          "text": [
            "En caso de ser hombre selecciona el numero 1, en caso de ser mujer selecciona el numero 2\n",
            "OPCION 1\n",
            "HOMBRE\n"
          ]
        }
      ]
    },
    {
      "cell_type": "code",
      "source": [
        "#Numero par o impar\n",
        "numero = int(input(\"Escribe un numero intero \"))\n",
        "if numero % 2 == 0: print(\"El numero\", numero, \"es un numero PAR\")\n",
        "else: print(\"El numero\", numero, \"es un numero IMPAR\")"
      ],
      "metadata": {
        "colab": {
          "base_uri": "https://localhost:8080/"
        },
        "id": "jUOEYoo7hcGt",
        "outputId": "faeb048c-128c-423a-d61f-dc3486cacc03"
      },
      "execution_count": null,
      "outputs": [
        {
          "output_type": "stream",
          "name": "stdout",
          "text": [
            "Escribe un numero intero 67\n",
            "El numero 67 es un numero IMPAR\n"
          ]
        }
      ]
    },
    {
      "cell_type": "code",
      "source": [
        "  #Numero mas alto compuesto\n",
        "numero1 = int(input(\"Escriba el primer numero \"))\n",
        "numero2 = int(input(\"Escriba el segundo numero \"))\n",
        "if numero1 >= 0 and numero1 < numero2: print(\"El numero mas alto es el:\", numero2)\n",
        "elif numero1 > numero2: print(\"El numero mas alto es:\", numero1)\n",
        "else: print(\"Los numeros proporcionados son iguales\")"
      ],
      "metadata": {
        "colab": {
          "base_uri": "https://localhost:8080/"
        },
        "id": "oMLdkkV2lgko",
        "outputId": "9f09911b-14c8-4761-9adc-fd0a252a2772"
      },
      "execution_count": null,
      "outputs": [
        {
          "output_type": "stream",
          "name": "stdout",
          "text": [
            "Escriba el primer numero 56\n",
            "Escriba el segundo numero 54\n",
            "El numero mas alto es: 56\n"
          ]
        }
      ]
    },
    {
      "cell_type": "code",
      "source": [
        "#Calificaciones aprobadas o reprobadas compuesto\n",
        "calificacion1 = float(input(\"Escribe la primera calificacion \"))\n",
        "calificacion2 = float(input(\"Escribe la segunda calificacion \"))\n",
        "calificacion3 = float(input(\"Escribe la tercera calificacion \"))\n",
        "calificacion4 = float(input(\"Escribe la cuarta calificacion \"))\n",
        "promedio = (calificacion1 + calificacion2 + calificacion3 + calificacion4)/4\n",
        "if promedio >= 60: print(\"APROBADO\")\n",
        "elif promedio >= 0 and promedio <= 59: print(\"Reprobado\")"
      ],
      "metadata": {
        "colab": {
          "base_uri": "https://localhost:8080/"
        },
        "id": "NnBmximqoG0o",
        "outputId": "465535e3-240d-4792-b88d-ae62bca4c6aa"
      },
      "execution_count": null,
      "outputs": [
        {
          "output_type": "stream",
          "name": "stdout",
          "text": [
            "Escribe la primera calificacion 54\n",
            "Escribe la segunda calificacion 78\n",
            "Escribe la tercera calificacion 34\n",
            "Escribe la cuarta calificacion 90\n",
            "APROBADO\n"
          ]
        }
      ]
    },
    {
      "cell_type": "code",
      "source": [
        "#Hombre o Mujer? compuesto\n",
        "print(\"En caso de ser hombre selecciona el numero 1, en caso de ser mujer selecciona el numero 2\")\n",
        "opcion = int(input(\"OPCION \"))\n",
        "if opcion == 1 and opcion != 2: print(\"HOMBRE\")\n",
        "elif opcion == 2 and opcion != 1: print(\"MUJER\")\n",
        "else: print(\"OPCION NO VALIDA\")"
      ],
      "metadata": {
        "id": "N-e2eYrJpNZI",
        "colab": {
          "base_uri": "https://localhost:8080/"
        },
        "outputId": "4ddd8144-7377-4450-c40e-2d24fd73b70c"
      },
      "execution_count": null,
      "outputs": [
        {
          "output_type": "stream",
          "name": "stdout",
          "text": [
            "En caso de ser hombre selecciona el numero 1, en caso de ser mujer selecciona el numero 2\n",
            "OPCION 2\n",
            "MUJER\n"
          ]
        }
      ]
    },
    {
      "cell_type": "code",
      "source": [
        "#Numero par o impar compuesto\n",
        "numero = int(input(\"Escribe un numero intero \"))\n",
        "if numero != 0 and numero % 2 == 0: print(\"El numero\", numero, \"es un numero PAR\")\n",
        "else: print(\"El numero\", numero, \"es un numero IMPAR\")"
      ],
      "metadata": {
        "colab": {
          "base_uri": "https://localhost:8080/"
        },
        "id": "VJmCpQgopnYF",
        "outputId": "d06f9fd7-5342-4264-be0c-4256381d1325"
      },
      "execution_count": null,
      "outputs": [
        {
          "output_type": "stream",
          "name": "stdout",
          "text": [
            "Escribe un numero intero 12\n",
            "El numero 12 es un numero PAR\n"
          ]
        }
      ]
    }
  ]
}